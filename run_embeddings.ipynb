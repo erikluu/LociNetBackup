{
 "cells": [
  {
   "cell_type": "code",
   "execution_count": null,
   "metadata": {},
   "outputs": [],
   "source": [
    "import ast\n",
    "import pandas as pd\n",
    "import pickle\n",
    "\n",
    "import src.embeddings as emb\n",
    "import src.similarity as sim\n",
    "import src.metrics_fr as met"
   ]
  },
  {
   "cell_type": "code",
   "execution_count": null,
   "metadata": {},
   "outputs": [],
   "source": [
    "def load_data(filepath, n=None):\n",
    "    assert filepath[-4:] == \".csv\", \"Must be a .csv file\"\n",
    "    data = pd.read_csv(filepath)\n",
    "    if n:\n",
    "        data = data.head(n)\n",
    "\n",
    "    attrs = {\n",
    "        \"titles\": data[\"title\"].tolist(),\n",
    "        \"text\": data[\"text\"].tolist(),\n",
    "        \"tags\": data[\"tags\"].apply(ast.literal_eval).tolist(),\n",
    "        \"ids\": data.index.tolist()\n",
    "    }\n",
    "\n",
    "    if \"simplified_tags\" in data.columns:\n",
    "        attrs[\"simplified_tags\"] = data[\"simplified_tags\"].apply(ast.literal_eval).tolist()\n",
    "\n",
    "    return attrs\n",
    "\n",
    "\n",
    "def save_to_pickle(object, filename):\n",
    "    pickle.dump(object, open(filename, 'wb'))\n",
    "\n",
    "\n",
    "def load_from_pickle(filename):\n",
    "    return pickle.load(open(filename, 'rb'))"
   ]
  },
  {
   "cell_type": "code",
   "execution_count": null,
   "metadata": {},
   "outputs": [],
   "source": [
    "data_name = \"medium1k\"\n",
    "data = load_data(f\"data/{data_name}.csv\", 2000)\n",
    "text = data[\"text\"]\n",
    "tags = data[\"simplified_tags\"]"
   ]
  },
  {
   "cell_type": "code",
   "execution_count": null,
   "metadata": {},
   "outputs": [],
   "source": [
    "model_name = \"word2vec\"\n",
    "word2vec_embeddings = emb.process_embeddings(text, model_name)\n",
    "save_to_pickle(word2vec_embeddings, \"embeddings/medium1k_word2vec_mean_n2000.pickle\")"
   ]
  },
  {
   "cell_type": "code",
   "execution_count": null,
   "metadata": {},
   "outputs": [],
   "source": [
    "model_name = \"minilm\"\n",
    "minilm_embeddings = emb.process_embeddings(text, model_name)"
   ]
  },
  {
   "cell_type": "code",
   "execution_count": null,
   "metadata": {},
   "outputs": [],
   "source": [
    "save_to_pickle(minilm_embeddings, \"embeddings/medium1k_minilm_n10000.pickle\")"
   ]
  },
  {
   "cell_type": "code",
   "execution_count": null,
   "metadata": {},
   "outputs": [],
   "source": [
    "model_name = \"mpnet\"\n",
    "mpnet_embeddings = emb.process_embeddings(text, model_name)\n",
    "cosine_sim, soft_cosine_sim, euclidean_sim = sim.get_all_similarities(mpnet_embeddings)\n",
    "all_mpnet_df = met.calculate_embedding_metrics_for_all(cosine_sim, soft_cosine_sim, euclidean_sim,\n",
    "                                        tags, model_name, data_name)"
   ]
  },
  {
   "cell_type": "code",
   "execution_count": null,
   "metadata": {},
   "outputs": [],
   "source": [
    "save_to_pickle(mpnet_embeddings, \"embeddings/medium1k_mpnet_n10000.pickle\")"
   ]
  },
  {
   "cell_type": "code",
   "execution_count": null,
   "metadata": {},
   "outputs": [],
   "source": [
    "model_name = \"nomic\"\n",
    "nomic_embeddings = emb.process_embeddings(text, model_name)\n",
    "cosine_sim, soft_cosine_sim, euclidean_sim = sim.get_all_similarities(nomic_embeddings)\n",
    "nomic_df = met.calculate_embedding_metrics_for_all(cosine_sim, soft_cosine_sim, euclidean_sim,\n",
    "                                        tags, model_name, data_name)"
   ]
  },
  {
   "cell_type": "code",
   "execution_count": null,
   "metadata": {},
   "outputs": [],
   "source": [
    "save_to_pickle(nomic_embeddings, \"embeddings/medium1k_nomic_n10000.pickle\")"
   ]
  },
  {
   "cell_type": "code",
   "execution_count": null,
   "metadata": {},
   "outputs": [],
   "source": [
    "model_name = \"bert\"\n",
    "bert_embeddings = emb.process_embeddings(text, model_name)\n",
    "cosine_sim, soft_cosine_sim, euclidean_sim = sim.get_all_similarities(bert_embeddings)\n",
    "bert_df = met.calculate_embedding_metrics_for_all(cosine_sim, soft_cosine_sim, euclidean_sim,\n",
    "                                        tags, model_name, data_name)"
   ]
  },
  {
   "cell_type": "code",
   "execution_count": null,
   "metadata": {},
   "outputs": [],
   "source": [
    "save_to_pickle(bert_embeddings, \"embeddings/medium1k_bert_n10000.pickle\")"
   ]
  },
  {
   "cell_type": "code",
   "execution_count": null,
   "metadata": {},
   "outputs": [],
   "source": [
    "model_name = \"specter\"\n",
    "specter_embeddings = emb.process_embeddings(text, model_name)\n",
    "cosine_sim, soft_cosine_sim, euclidean_sim = sim.get_all_similarities(specter_embeddings)\n",
    "specter_df = met.calculate_embedding_metrics_for_all(cosine_sim, soft_cosine_sim, euclidean_sim,\n",
    "                                        tags, model_name, data_name)"
   ]
  },
  {
   "cell_type": "code",
   "execution_count": null,
   "metadata": {},
   "outputs": [],
   "source": [
    "save_to_pickle(specter_embeddings, \"embeddings/medium1k_specter_n10000.pickle\")"
   ]
  }
 ],
 "metadata": {
  "kernelspec": {
   "display_name": ".venv",
   "language": "python",
   "name": "python3"
  },
  "language_info": {
   "codemirror_mode": {
    "name": "ipython",
    "version": 3
   },
   "file_extension": ".py",
   "mimetype": "text/x-python",
   "name": "python",
   "nbconvert_exporter": "python",
   "pygments_lexer": "ipython3",
   "version": "3.11.8"
  }
 },
 "nbformat": 4,
 "nbformat_minor": 2
}
