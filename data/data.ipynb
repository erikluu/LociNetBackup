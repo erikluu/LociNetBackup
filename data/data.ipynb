{
 "cells": [
  {
   "cell_type": "code",
   "execution_count": 1,
   "metadata": {},
   "outputs": [
    {
     "name": "stderr",
     "output_type": "stream",
     "text": [
      "/Users/erikluu/Documents/Poly/Thesis/LociNet/.venv/lib/python3.12/site-packages/tqdm/auto.py:21: TqdmWarning: IProgress not found. Please update jupyter and ipywidgets. See https://ipywidgets.readthedocs.io/en/stable/user_install.html\n",
      "  from .autonotebook import tqdm as notebook_tqdm\n"
     ]
    }
   ],
   "source": [
    "import sys\n",
    "sys.path.append('../') \n",
    "from data.data_utils import embeddings_from_csv"
   ]
  },
  {
   "cell_type": "code",
   "execution_count": 3,
   "metadata": {},
   "outputs": [
    {
     "name": "stderr",
     "output_type": "stream",
     "text": [
      "Processing batch: Introductionhould yo...:   8%|▊         | 8/100 [00:34<06:29,  4.23s/it]\n",
      "\n",
      "Processing batch: Introduction100 [00:39<06:29,  4.23s/it]\n",
      "\n",
      "Processing batch: Setting Up Traefikhi...:  13%|█▎        | 13/100 [00:58<06:43,  4.64s/it]\n",
      "\n",
      "Processing batch: Setting Up Traefik06:43,  4.64s/it]\n",
      "\n",
      "Processing batch: Let Us In love with ...:  28%|██▊       | 28/100 [02:13<06:01,  5.02s/it]\n",
      "\n",
      "Processing batch: Let Us In  | 28/100 [02:18<06:01,  5.02s/it]\n",
      "\n",
      "Processing batch: Backgroundpam Your A...:  38%|███▊      | 38/100 [03:03<05:27,  5.29s/it]\n",
      "\n",
      "Processing batch: Background| 38/100 [03:09<05:27,  5.29s/it]\n",
      "\n",
      "Processing batch: Short Life Lessons:y...:  51%|█████     | 51/100 [04:09<04:07,  5.04s/it]\n",
      "Processing batch: Short Life Lessons:4:07,  5.04s/it]\n",
      "Processing batch: by Jackie Swift I we...:  61%|██████    | 61/100 [05:00<03:15,  5.00s/it]\n",
      "\n",
      "Processing batch: by Jackie Swift05:05<03:15,  5.00s/it]\n",
      "\n",
      "Processing batch: It’s Complicatedh M1...:  76%|███████▌  | 76/100 [06:30<02:10,  5.44s/it]\n",
      "\n",
      "Processing batch: It’s Complicated:35<02:10,  5.44s/it]\n",
      "\n",
      "Processing batch: #DecemberSelfCare’t ...:  83%|████████▎ | 83/100 [07:15<01:49,  6.44s/it]\n",
      "\n",
      "Processing batch: #DecemberSelfCare2<01:49,  6.44s/it]\n",
      "\n",
      "Processing batch: Immutability? week, ...:  89%|████████▉ | 89/100 [07:55<01:15,  6.82s/it]\n",
      "\n",
      "Processing batch: Immutability?00 [08:03<01:15,  6.82s/it]\n",
      "\n",
      "Processing batch: Backgroundmicrocosms...:  93%|█████████▎| 93/100 [08:27<00:55,  7.91s/it]\n",
      "\n",
      "Processing batch: Background| 93/100 [08:36<00:55,  7.91s/it]\n",
      "\n",
      "Processing batch: In this blog, I’ll d...: 100%|██████████| 100/100 [09:18<00:00,  5.58s/it]\n"
     ]
    }
   ],
   "source": [
    "model_id = \"sentence-transformers/all-MiniLM-L6-v2\"\n",
    "embeddings_from_csv(model_id, \"medium_articles.csv\", [\"text\"], \"./medium_all-MiniLM-L6-v2_text.pt\")"
   ]
  },
  {
   "cell_type": "code",
   "execution_count": null,
   "metadata": {},
   "outputs": [
    {
     "data": {
      "text/plain": [
       "0    [SwmBwpLIKo, gwuyyYtY]\n",
       "1     [NduOuGfjXH, HMZUEYx]\n",
       "2        [xcpSOHRa, YETjEv]\n",
       "3         [ztzCt, XeMQtzew]\n",
       "4    [YBvfNfHThR, eOILYIUL]\n",
       "dtype: object"
      ]
     },
     "execution_count": 13,
     "metadata": {},
     "output_type": "execute_result"
    }
   ],
   "source": [
    "import pandas as pd\n",
    "import random\n",
    "import string\n",
    "\n",
    "# Define the number of rows and columns\n",
    "num_rows = 5\n",
    "num_columns = 3\n",
    "\n",
    "# Generate random strings for each cell in the DataFrame\n",
    "data = [[\n",
    "    ''.join(random.choices(string.ascii_letters, k=random.randint(5, 10)))  # Random string of length 5 to 10\n",
    "    for _ in range(num_columns)\n",
    "] for _ in range(num_rows)]\n",
    "\n",
    "# Create the DataFrame\n",
    "df = pd.DataFrame(data, columns=[f'Column_{i+1}' for i in range(num_columns)])\n",
    "\n",
    "def combine_columns(df, columns):\n",
    "    combined_texts = df[columns].apply(lambda row: [item for item in row], axis=1)\n",
    "    return combined_texts\n",
    "\n",
    "combine_columns(df, [\"Column_1\", \"Column_2\"])"
   ]
  }
 ],
 "metadata": {
  "kernelspec": {
   "display_name": ".venv",
   "language": "python",
   "name": "python3"
  },
  "language_info": {
   "codemirror_mode": {
    "name": "ipython",
    "version": 3
   },
   "file_extension": ".py",
   "mimetype": "text/x-python",
   "name": "python",
   "nbconvert_exporter": "python",
   "pygments_lexer": "ipython3",
   "version": "3.12.2"
  }
 },
 "nbformat": 4,
 "nbformat_minor": 2
}
